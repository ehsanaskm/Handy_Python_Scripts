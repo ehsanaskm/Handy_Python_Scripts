{
 "cells": [
  {
   "cell_type": "code",
   "execution_count": 1,
   "metadata": {},
   "outputs": [
    {
     "name": "stdout",
     "output_type": "stream",
     "text": [
      "0.0644720913369\n",
      "turbulent viscosity= 0.00010108381881\n",
      "turbulent energy (k) = 2.24459130313e-05\n",
      "dissipation rate (epsilon)= 8.18982823113e-07\n"
     ]
    }
   ],
   "source": [
    "import numpy as np\n",
    "\n",
    "\n",
    "\n",
    "rho=1.225\n",
    "\n",
    "U=0.06 #avg velocity\n",
    "\n",
    "mu=1.5571e-5\n",
    "\n",
    "D=0.3048\n",
    "\n",
    "A=np.pi*D**2/4\n",
    "\n",
    "P=np.pi*D\n",
    "\n",
    "dh=4*A/P\n",
    "\n",
    "l=0.07*dh\n",
    "\n",
    "Re_dh=(rho*U*dh)/mu\n",
    "\n",
    "I=0.16*np.power(Re_dh,-1/8)\n",
    "\n",
    "print(I)\n",
    "\n",
    "nu=np.sqrt(3/2)*(U*I*l)\n",
    "\n",
    "k=3/2*np.power((U*I),2)\n",
    "\n",
    "Cmu=0.09\n",
    "\n",
    "epsilon= np.power(Cmu,3/4)*(np.power(k,3/2)/l)\n",
    "\n",
    "print (\"turbulent viscosity=\",nu)\n",
    "print (\"turbulent energy (k) =\",k)\n",
    "print (\"dissipation rate (epsilon)=\",epsilon)\n",
    "\n",
    "\n",
    "rho_g=1.225\n",
    "sigma=0.073\n",
    "\n"
   ]
  },
  {
   "cell_type": "code",
   "execution_count": null,
   "metadata": {
    "collapsed": true
   },
   "outputs": [],
   "source": []
  }
 ],
 "metadata": {
  "kernelspec": {
   "display_name": "Python 3",
   "language": "python",
   "name": "python3"
  },
  "language_info": {
   "codemirror_mode": {
    "name": "ipython",
    "version": 3
   },
   "file_extension": ".py",
   "mimetype": "text/x-python",
   "name": "python",
   "nbconvert_exporter": "python",
   "pygments_lexer": "ipython3",
   "version": "3.6.3"
  }
 },
 "nbformat": 4,
 "nbformat_minor": 2
}
