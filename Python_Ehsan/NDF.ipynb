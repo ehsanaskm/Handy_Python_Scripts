{
 "cells": [
  {
   "cell_type": "code",
   "execution_count": 2,
   "metadata": {},
   "outputs": [],
   "source": [
    "#!/usr/bin/env python3\n",
    "# -*- coding: utf-8 -*-\n",
    "\"\"\"\n",
    "Created on Fri Oct  7 10:41:43 2016\n",
    "\n",
    "@author: ehsan\n",
    "\"\"\"\n",
    "import numpy as np\n",
    "import matplotlib.pyplot as plt\n",
    "from scipy.special import *\n",
    "\n",
    "def NDF(x,W1,W2,L1,L2,sigma):\n",
    "    m0=W1+W2\n",
    "    landa1=L1/sigma\n",
    "    landa2=L2/sigma\n",
    "    t1=W1/m0*(pow(x,(landa1-1.0))*np.exp(-1*x/sigma))/(gamma(landa1)*pow(sigma,landa1))   \n",
    "    t2=W2/m0*(pow(x,(landa2-1.0))*np.exp(-1*x/sigma))/(gamma(landa2)*pow(sigma,landa2)) \n",
    "    ans=float(t1+t2)\n",
    "    return ans\n",
    "\n",
    "def plotNDF(TS,W1,W2,L1,L2,sigma):\n",
    "    x = np.arange(0, 10, 0.001)\n",
    "    y = [NDF(v,W1,W2,L1,L2,sigma) for v in x]\n",
    "\n",
    "    plt.axis([0, 7, 0, 1])\n",
    "    plt.plot(x, y)\n",
    "    plt.title(\"NDF for Time = {} second\".format(TS))\n",
    "    plt.xlabel(\"Bubble Size (mm)\")\n",
    "    plt.ylabel(\"Number Density Function (NDF)\")\n",
    "    plt.savefig('anim/NDF-{}.jpg'.format(TS),format='jpg')\n",
    "    plt.close()\n",
    "    np.savetxt('data'+str(TS)+'.dat',np.transpose(np.array([x,y])),delimiter=', ')\n",
    " \n",
    "NDFData = np.loadtxt('volRegion5.dat')\n",
    "\n",
    "\n",
    "for line in NDFData[::1000]:\n",
    "    #* inja array boodan ro az beyn mibare\n",
    "    plotNDF(*line[:6]) #6 inja tedade sotoonhaye data file voroodie (Time, W1, W2, L1, L2, sigma)\n",
    "   \n"
   ]
  },
  {
   "cell_type": "code",
   "execution_count": null,
   "metadata": {
    "collapsed": true
   },
   "outputs": [],
   "source": []
  }
 ],
 "metadata": {
  "kernelspec": {
   "display_name": "Python 3",
   "language": "python",
   "name": "python3"
  },
  "language_info": {
   "codemirror_mode": {
    "name": "ipython",
    "version": 3
   },
   "file_extension": ".py",
   "mimetype": "text/x-python",
   "name": "python",
   "nbconvert_exporter": "python",
   "pygments_lexer": "ipython3",
   "version": "3.6.3"
  }
 },
 "nbformat": 4,
 "nbformat_minor": 2
}
