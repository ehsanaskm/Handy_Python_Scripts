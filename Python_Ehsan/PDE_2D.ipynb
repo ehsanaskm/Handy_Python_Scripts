{
 "cells": [
  {
   "cell_type": "code",
   "execution_count": 10,
   "metadata": {},
   "outputs": [
    {
     "data": {
      "image/png": "[encoded data removed]",
      "text/plain": [
       "<matplotlib.figure.Figure at 0x10d746b00>"
      ]
     },
     "metadata": {},
     "output_type": "display_data"
    }
   ],
   "source": [
    "def differencesFinies(NPI,NPJ,coeff,dx2m,dy2m,dx,h,k,TA,A,b):\n",
    "    for i in range( 0 ,NPI):\n",
    "        for j in range( 0 ,NPJ) :\n",
    "            p = j*    (NPI)    + i\n",
    "            pE= j*    (NPI)    + i+1\n",
    "            pO= j*    (NPI)    + i-1 \n",
    "            pN= (j+1)*(NPI)    + i \n",
    "            pS= (j-1)*(NPI)    + i \n",
    "            #\n",
    "            #\n",
    "            # frontière à température fixe, Dirichlet T=100 frontière OUEST, i=0\n",
    "            if   i == 0:\n",
    "                A[p,p] =1.0\n",
    "                b[p]   =400\n",
    "                #\n",
    "                #\n",
    "            elif i == NII:\n",
    "                # frontière avec coefficient de convection à la limite EST, i=NII: condition de Robin\n",
    "                #                        -kdT/dx=h(T-TA) devient en D.F.--> T(1+hdx/k)-TO=hdx/k*TA\n",
    "                A[p,p] =1+h*dx/k\n",
    "                b[p] =h*dx/k*TA\n",
    "                A[p,pO]=A[p,pO]-1        # sur la frontière EST, le point voisin est à l'OUEST\n",
    "                #\n",
    "                #\n",
    "                \n",
    "            elif j == 0: \n",
    "                # frontière avec condition de Newman (gradient nul) à la frontière SUD, j=0\n",
    "                A[p,p] =1.0\n",
    "                b[p]   =0\n",
    "                A[p,pN]=A[p,pN]-1  # Puisque c'est la frontière SUD, le point voisin de température égale est au NORD\n",
    "                #\n",
    "                #\n",
    "                # frontière à température fixe, Dirichlet T=30 frontière NORD, j=NIJ\n",
    "            elif j == NIJ: \n",
    "                A[p,p] =1.0\n",
    "                b[p]   =0\n",
    "            else:\n",
    "                A[p,p]  =-coeff +A[p,p]\n",
    "                A[p,pE] = dx2m  + A[p,pE]\n",
    "                A[p,pO] = dx2m  + A[p,pO]\n",
    "                A[p,pN] = dy2m  + A[p,pN]\n",
    "                A[p,pS] = dy2m  + A[p,pS]\n",
    "                b[p]    = 0 + b[p]\n",
    "                \n",
    "    return A,b\n",
    "#\n",
    "#\n",
    "#\n",
    "import numpy as np\n",
    "from numpy.linalg import solve\n",
    "import pylab\n",
    "NII     = 20        # Nombre d'Intervalles direction x (I)\n",
    "NIJ     = 20        # Nombre d'Intervalles direction y (J)\n",
    "NPI     =NII+1      # nombre de points direction x\n",
    "NPJ     =NIJ+1      # nombre de points direction y\n",
    "ouest = 0.0 \n",
    "est   = 1.0\n",
    "sud   = 0.0\n",
    "nord  = 1.0\n",
    "\n",
    "x     = np.linspace(ouest , est  ,NPI )\n",
    "y     = np.linspace( sud  , nord ,NPJ )\n",
    "dx     = x[1]-x[0]\n",
    "dy     = y[1]-y[0]\n",
    "dx2m  = 1.0/dx**2\n",
    "dy2m  = 1.0/dy**2\n",
    "coeff = 2.0*(dx2m+dy2m)\n",
    "X,Y   = np.meshgrid(x,y)\n",
    "total = NPI*NPJ\n",
    "A     = np.zeros((total,total))\n",
    "b     = np.zeros(total)\n",
    "h     = 2.0\n",
    "k     = 1.0\n",
    "TA    = 300\n",
    "A,b= differencesFinies(NPI,NPJ,coeff,dx2m,dy2m,dx,h,k,TA,A,b)\n",
    "z=solve(A, b )\n",
    "Z=z.reshape(NPJ,NPI)\n",
    "pylab.contourf(X,Y,Z)\n",
    "pylab.colorbar ( )\n",
    "pylab.xlabel ('x')\n",
    "pylab.ylabel ('y')\n",
    "pylab.show( )\n",
    "\n",
    "\n"
   ]
  },
  {
   "cell_type": "code",
   "execution_count": null,
   "metadata": {
    "collapsed": true
   },
   "outputs": [],
   "source": []
  }
 ],
 "metadata": {
  "kernelspec": {
   "display_name": "Python 3",
   "language": "python",
   "name": "python3"
  },
  "language_info": {
   "codemirror_mode": {
    "name": "ipython",
    "version": 3
   },
   "file_extension": ".py",
   "mimetype": "text/x-python",
   "name": "python",
   "nbconvert_exporter": "python",
   "pygments_lexer": "ipython3",
   "version": "3.6.3"
  }
 },
 "nbformat": 4,
 "nbformat_minor": 2
}
