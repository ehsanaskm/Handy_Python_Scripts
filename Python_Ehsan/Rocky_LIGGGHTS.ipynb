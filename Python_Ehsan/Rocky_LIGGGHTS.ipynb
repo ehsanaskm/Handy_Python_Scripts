{
 "cells": [
  {
   "cell_type": "code",
   "execution_count": 13,
   "metadata": {},
   "outputs": [
    {
     "name": "stdout",
     "output_type": "stream",
     "text": [
      "0.0477687325056\n"
     ]
    },
    {
     "name": "stderr",
     "output_type": "stream",
     "text": [
      "/Applications/anaconda3/lib/python3.6/site-packages/ipykernel_launcher.py:10: RuntimeWarning: divide by zero encountered in log\n",
      "  # Remove the CWD from sys.path while we load stuff.\n",
      "/Applications/anaconda3/lib/python3.6/site-packages/ipykernel_launcher.py:10: RuntimeWarning: invalid value encountered in true_divide\n",
      "  # Remove the CWD from sys.path while we load stuff.\n"
     ]
    },
    {
     "data": {
      "image/png": "[encoded data removed]",
      "text/plain": [
       "<matplotlib.figure.Figure at 0x1511ee17f0>"
      ]
     },
     "metadata": {},
     "output_type": "display_data"
    }
   ],
   "source": [
    "import numpy as np\n",
    "import matplotlib.pyplot as plt\n",
    "from scipy.special import *\n",
    "\n",
    "t=np.linspace(0.001,3,100)\n",
    "e=np.linspace(0,1,100)\n",
    "\n",
    "\n",
    "def eta_L(e):\n",
    "    ans=-2*np.log(e)/np.sqrt(pow(np.log(e),2)+pow(np.pi,2)) \n",
    "    return ans\n",
    "\n",
    "\n",
    "def e_R(eta):\n",
    "    if eta >= 0 and eta < 1/np.sqrt(2):\n",
    "        ans2=np.exp(-1*eta/(np.sqrt(1-eta**2))*(np.pi-np.arctan(2*eta*np.sqrt(1-eta**2)/(1-2*eta**2))))\n",
    "    elif eta >= 1/np.sqrt(2) and eta <= 1:\n",
    "        ans2=np.exp(-1*eta/(np.sqrt(1-eta**2))*(np.arctan(2*eta*np.sqrt(1-eta**2)/(2*eta**2-1))))\n",
    "    elif eta > 1:\n",
    "        ans2=np.exp(-1*eta/(np.sqrt(eta**2-1))*(np.log((eta+np.sqrt(eta**2-1))/(eta-np.sqrt(eta**2-1)))))\n",
    "    return ans2\n",
    "\n",
    "print(e_R(2))\n",
    "\n",
    "y = [e_R(eta) for eta in t]\n",
    "    \n",
    "plt.axis([0, 3, 0, 1])\n",
    "plt.plot(eta_L(e),e,t,y)\n",
    "plt.xlabel(\"$\\eta$\")\n",
    "plt.ylabel(\"e\")\n",
    "plt.savefig(\"e_etha.png\", format=\"png\")\n",
    "plt.show()\n",
    "\n",
    "\n"
   ]
  },
  {
   "cell_type": "code",
   "execution_count": null,
   "metadata": {
    "collapsed": true
   },
   "outputs": [],
   "source": []
  }
 ],
 "metadata": {
  "kernelspec": {
   "display_name": "Python 3",
   "language": "python",
   "name": "python3"
  },
  "language_info": {
   "codemirror_mode": {
    "name": "ipython",
    "version": 3
   },
   "file_extension": ".py",
   "mimetype": "text/x-python",
   "name": "python",
   "nbconvert_exporter": "python",
   "pygments_lexer": "ipython3",
   "version": "3.6.3"
  }
 },
 "nbformat": 4,
 "nbformat_minor": 2
}
