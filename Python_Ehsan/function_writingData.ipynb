{
 "cells": [
  {
   "cell_type": "code",
   "execution_count": 1,
   "metadata": {},
   "outputs": [
    {
     "name": "stderr",
     "output_type": "stream",
     "text": [
      "/Applications/anaconda3/lib/python3.6/site-packages/ipykernel_launcher.py:19: RuntimeWarning: divide by zero encountered in double_scalars\n",
      "/Applications/anaconda3/lib/python3.6/site-packages/ipykernel_launcher.py:19: RuntimeWarning: divide by zero encountered in log\n",
      "/Applications/anaconda3/lib/python3.6/site-packages/ipykernel_launcher.py:19: RuntimeWarning: invalid value encountered in double_scalars\n",
      "/Applications/anaconda3/lib/python3.6/site-packages/ipykernel_launcher.py:20: RuntimeWarning: divide by zero encountered in double_scalars\n",
      "/Applications/anaconda3/lib/python3.6/site-packages/ipykernel_launcher.py:20: RuntimeWarning: divide by zero encountered in log\n",
      "/Applications/anaconda3/lib/python3.6/site-packages/ipykernel_launcher.py:20: RuntimeWarning: invalid value encountered in double_scalars\n"
     ]
    },
    {
     "data": {
      "text/plain": [
       "[<matplotlib.lines.Line2D at 0x10cd453c8>]"
      ]
     },
     "execution_count": 1,
     "metadata": {},
     "output_type": "execute_result"
    }
   ],
   "source": [
    "#!/usr/bin/env python3\n",
    "# -*- coding: utf-8 -*-\n",
    "\"\"\"\n",
    "Created on Fri Oct  7 10:41:43 2016\n",
    "\n",
    "@author: ehsan\n",
    "\"\"\"\n",
    "import numpy as np\n",
    "import matplotlib.pyplot as plt\n",
    "\n",
    "f = open(\"data2.txt\", \"w\")\n",
    "\n",
    "def NDF(x):\n",
    "    W1=0.82\n",
    "    W2=0.18\n",
    "    L1=np.log(2.67)\n",
    "    L2=np.log(0.1)\n",
    "    sigma=0.1\n",
    "    t1=W1/x/sigma/np.power(2*np.pi,0.5)*np.exp(-1*pow((np.log(x)-L1),2)/2/pow(sigma,2))\n",
    "    t2=W2/x/sigma/np.power(2*np.pi,0.5)*np.exp(-1*pow((np.log(x)-L2),2)/2/pow(sigma,2))\n",
    "    ans=float(t1+t2)\n",
    "    return ans\n",
    "    \n",
    "def NDF2(x):\n",
    "    W1=0.468787449509\n",
    "    W2=0.468787449509\n",
    "    L1=np.log(1.49294179615)\n",
    "    L2=np.log(3.18765362794)\n",
    "    sigma=0.283448017819\n",
    "    t1=W1/x/sigma/np.power(2*np.pi,0.5)*np.exp(-1*pow((np.log(x)-L1),2)/2/pow(sigma,2))\n",
    "    t2=W2/x/sigma/np.power(2*np.pi,0.5)*np.exp(-1*pow((np.log(x)-L2),2)/2/pow(sigma,2))\n",
    "    ans=float(t1+t2)\n",
    "    return ans\n",
    "\n",
    "    \n",
    "def NDF3(x):\n",
    "    W1=1\n",
    "    L1=np.log(1.94576043698)\n",
    "    sigma=0.586483227548\n",
    "    t1=W1/x/sigma/np.power(2*np.pi,0.5)*np.exp(-1*pow((np.log(x)-L1),2)/2/pow(sigma,2))\n",
    "    ans=float(t1)\n",
    "    return ans\n",
    "\n",
    "    \n",
    "x=np.arange(0,10,0.001)\n",
    "y=[NDF(v) for v in x]\n",
    "   \n",
    "\n",
    "for i in range (0,1000):\n",
    "    f.write( str(x[i]) + \"   \" + str(y[i]) + \"\\n\" )\n",
    "   \n",
    "\n",
    "       \n",
    "f.close()\n",
    "   \n",
    "#y2=[NDF2(v) for v in x]\n",
    "#y3=[NDF3(v) for v in x]\n",
    "plt.axis([1, 10, 0, 2])\n",
    "plt.plot(x,y)\n",
    "#plt.plot(x,y2)\n",
    "#plt.plot(x,y3)\n",
    "\n",
    "                     # Show the figure"
   ]
  },
  {
   "cell_type": "code",
   "execution_count": null,
   "metadata": {
    "collapsed": true
   },
   "outputs": [],
   "source": []
  }
 ],
 "metadata": {
  "kernelspec": {
   "display_name": "Python 3",
   "language": "python",
   "name": "python3"
  },
  "language_info": {
   "codemirror_mode": {
    "name": "ipython",
    "version": 3
   },
   "file_extension": ".py",
   "mimetype": "text/x-python",
   "name": "python",
   "nbconvert_exporter": "python",
   "pygments_lexer": "ipython3",
   "version": "3.6.3"
  }
 },
 "nbformat": 4,
 "nbformat_minor": 2
}
